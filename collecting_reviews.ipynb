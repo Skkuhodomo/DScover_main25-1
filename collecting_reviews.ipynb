{
 "cells": [
  {
   "cell_type": "code",
   "execution_count": 1,
   "id": "37a6501c",
   "metadata": {},
   "outputs": [],
   "source": [
    "import pandas as pd\n",
    "import numpy as np\n",
    "import requests\n",
    "from bs4 import BeautifulSoup\n",
    "import time\n",
    "from tqdm import tqdm\n",
    "import json\n",
    "\n",
    "from selenium import webdriver\n",
    "from selenium.webdriver.chrome.service import Service\n",
    "from webdriver_manager.chrome import ChromeDriverManager\n",
    "from selenium.webdriver.common.by import By\n",
    "from selenium.webdriver.chrome.options import Options\n",
    "\n",
    "import google.generativeai as genai\n",
    "import re"
   ]
  },
  {
   "cell_type": "code",
   "execution_count": null,
   "id": "8fb9484c",
   "metadata": {},
   "outputs": [
    {
     "name": "stderr",
     "output_type": "stream",
     "text": [
      " 60%|██████    | 3/5 [00:04<00:03,  1.53s/it]"
     ]
    }
   ],
   "source": [
    "headers = {\n",
    "    \"User-Agent\": \"Mozilla/5.0\"\n",
    "}\n",
    "\n",
    "# Step 1. 리뷰 URL 수집\n",
    "def get_review_urls(max_pages=5):\n",
    "    base_url = \"https://pitchfork.com/reviews/albums/?page={}\"\n",
    "    review_urls = []\n",
    "\n",
    "    for page in tqdm(range(1, max_pages + 1)):\n",
    "        url = base_url.format(page)\n",
    "        res = requests.get(url, headers=headers)\n",
    "        soup = BeautifulSoup(res.content, 'html.parser')\n",
    "\n",
    "        # 수정된 셀렉터\n",
    "        links = soup.select('a[href^=\"/reviews/albums/\"]')\n",
    "        for link in links:\n",
    "            href = link['href']\n",
    "            full_url = \"https://pitchfork.com\" + href\n",
    "            review_urls.append(full_url)\n",
    "        time.sleep(1)\n",
    "\n",
    "    return list(set(review_urls))  # 중복 제거\n",
    "\n",
    "# Step 2. 평론 본문 추출\n",
    "def extract_review_text(html):\n",
    "    soup = BeautifulSoup(html, 'html.parser')\n",
    "    \n",
    "    # class 이름에 'article__body'가 포함된 div를 찾음\n",
    "    candidates = soup.find_all(\"div\", class_=lambda x: x and \"article__body\" in x)\n",
    "    \n",
    "    for c in candidates:\n",
    "        paragraphs = c.find_all(\"p\")\n",
    "        if paragraphs:\n",
    "            return \"\\n\".join(p.get_text(strip=True) for p in paragraphs)\n",
    "    \n",
    "    return None\n",
    "\n",
    "# Step 3. 전체 실행 및 저장장\n",
    "def crawl_pitchfork_reviews(max_pages=5, save_path=\"pitchfork_reviews.json\"):\n",
    "    urls = get_review_urls(max_pages=max_pages)\n",
    "    data = []\n",
    "\n",
    "    for url in tqdm(urls):\n",
    "        try:\n",
    "            res = requests.get(url, headers=headers)\n",
    "            if res.status_code == 200:\n",
    "                review = extract_review_text(res.text)\n",
    "                if review:\n",
    "                    data.append({\n",
    "                        \"url\": url,\n",
    "                        \"review_text\": review\n",
    "                    })\n",
    "        except Exception as e:\n",
    "            print(f\"❌ 오류 발생: {url}\", e)\n",
    "        time.sleep(0.5)\n",
    "\n",
    "    with open(save_path, \"w\", encoding=\"utf-8\") as f:\n",
    "        json.dump(data, f, ensure_ascii=False, indent=2)\n",
    "\n",
    "    print(f\"✅ 수집 완료! {len(data)}개 리뷰 저장됨 → {save_path}\")\n",
    "\n",
    "# 예시 실행 (5페이지 = 약 450~500개 리뷰)\n",
    "crawl_pitchfork_reviews(max_pages=5)"
   ]
  },
  {
   "cell_type": "code",
   "execution_count": null,
   "id": "6ff3dc99",
   "metadata": {},
   "outputs": [],
   "source": []
  }
 ],
 "metadata": {
  "kernelspec": {
   "display_name": "Python 3",
   "language": "python",
   "name": "python3"
  },
  "language_info": {
   "codemirror_mode": {
    "name": "ipython",
    "version": 3
   },
   "file_extension": ".py",
   "mimetype": "text/x-python",
   "name": "python",
   "nbconvert_exporter": "python",
   "pygments_lexer": "ipython3",
   "version": "3.12.2"
  }
 },
 "nbformat": 4,
 "nbformat_minor": 5
}
