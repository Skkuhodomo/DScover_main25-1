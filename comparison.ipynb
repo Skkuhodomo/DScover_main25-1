{
 "cells": [
  {
   "cell_type": "code",
   "execution_count": 1,
   "metadata": {},
   "outputs": [
    {
     "data": {
      "application/vnd.jupyter.widget-view+json": {
       "model_id": "5b18454408f74f31bd85ea472e086e0b",
       "version_major": 2,
       "version_minor": 0
      },
      "text/plain": [
       "Fetching 8 files:   0%|          | 0/8 [00:00<?, ?it/s]"
      ]
     },
     "metadata": {},
     "output_type": "display_data"
    }
   ],
   "source": [
    "from mlx_lm_omni import load, generate\n",
    "import librosa\n",
    "from io import BytesIO\n",
    "from urllib.request import urlopen\n",
    "\n",
    "model, tokenizer = load(\"giangndm/qwen2.5-omni-7b-mlx-4bit\")\n"
   ]
  },
  {
   "cell_type": "code",
   "execution_count": 3,
   "metadata": {},
   "outputs": [
    {
     "name": "stdout",
     "output_type": "stream",
     "text": [
      "==========\n",
      "The song \"Heartbreak\" by artist J. Cole is a powerful track from his album \"4 Your Eyez Only.\" The song's lyrics express the pain and struggle of a breakup, with lines such as \"I'm still waiting for you to come back\" and \"I'm still waiting for you to come back.\" The emotional tone of the song is raw and honest, reflecting the artist's personal experiences with heartbreak. The production quality is top-notch, with a smooth beat and J. Cole's distinctive flow. Overall, the song is a poignant exploration of the pain of a breakup, and a testament to J. Cole's ability to convey deep emotions through his music.\n",
      "==========\n",
      "Prompt: 824 tokens, 288.754 tokens-per-sec\n",
      "Generation: 138 tokens, 8.835 tokens-per-sec\n",
      "Peak memory: 5.589 GB\n"
     ]
    }
   ],
   "source": [
    "audio_path = \"music/Ariana Grande - thank u, next (Official Lyric Video).mp3\"\n",
    "# 30초로 자르기 \n",
    "audio = librosa.load(audio_path, sr=16000)[0]\n",
    "audio = audio[:30*16000]\n",
    "messages = [\n",
    "    {\"role\": \"system\", \"content\": \"You are a speech recognition model.\"},\n",
    "    {\"role\": \"user\", \"content\":\"This song is about a breakup. Please write a detailed music review. Consider the melody, lyrics, production quality, emotional tone, and the artist’s background if known. Reflect on how the song made you feel, and try to analyze its meaning or message.\", \"audio\": audio},\n",
    "]\n",
    "prompt = tokenizer.apply_chat_template(\n",
    "    messages, add_generation_prompt=True\n",
    ")\n",
    "\n",
    "text = generate(model, tokenizer, prompt=prompt, verbose=True)"
   ]
  },
  {
   "cell_type": "code",
   "execution_count": 6,
   "metadata": {},
   "outputs": [
    {
     "name": "stdout",
     "output_type": "stream",
     "text": [
      "==========\n",
      "**Music Review: \"谢谢你\" by Ariana Grande**\n",
      "\n",
      "Ariana Grande's \"谢谢你\" (Thank You) is a standout track from her album \"Sweetener,\" released in 2018. The song is a testament to her versatility as an artist, seamlessly blending pop sensibilities with a touch of R&B, a nod to her early influences and her growth as a performer.\n",
      "\n",
      "**Melody and Production:**\n",
      "The melody of \"谢谢你\" is both catchy and emotive, with a smooth progression that builds to a powerful climax. The production is polished, with a mix of electronic beats and soft, melodic hooks that create an inviting atmosphere. The use of synths and subtle percussion adds depth to the track, making it both danceable and suitable for a more intimate listening experience.\n",
      "\n",
      "**Lyrics:**\n",
      "The lyrics of \"谢谢你\" are a heartfelt expression of gratitude, thanking someone for their support and love. The song's message is universal, resonating with listeners who have experienced similar feelings of appreciation. The simplicity of the lyrics allows the melody and Grande's vocal performance to take center stage, making the song both relatable and uplifting.\n",
      "\n",
      "**Emotional Tone:**\n",
      "The emotional tone of \"谢谢你\" is one of warmth and sincerity. Grande's\n",
      "==========\n",
      "Prompt: 219 tokens, 376.036 tokens-per-sec\n",
      "Generation: 256 tokens, 11.609 tokens-per-sec\n",
      "Peak memory: 5.708 GB\n"
     ]
    }
   ],
   "source": [
    "audio_path = \"music/Ariana Grande - thank u, next (Official Lyric Video).mp3\"\n",
    "# 30초로 자르기 \n",
    "audio = librosa.load(audio_path, sr=16000)[0]\n",
    "audio = audio[:30*16000]\n",
    "messages = [\n",
    "    {\"role\": \"system\", \"content\": \"You are a speech recognition model.\"},\n",
    "    {\n",
    "  \"role\": \"user\",\n",
    "  \"content\": \"You just listened to the following song. Please write a detailed and thoughtful music review. In your review, reflect on the song’s melody, production, lyrics, emotional tone, and overall impact. Additionally, consider the following background information about the artist and the album:\\n\\nAriana Grande is an American singer and actress who began her career on Broadway and gained early fame through Nickelodeon series like 'Victorious' and 'Sam & Cat'. She later transitioned into a successful pop and R&B singer with a powerful four-octave vocal range. In addition to her music career, she has hosted Saturday Night Live, served as a coach on The Voice, and is currently cast as Glinda in the upcoming film adaptation of 'Wicked'.\\n\\nPlease incorporate this background into your review. Consider how her experience as a performer across music and acting might influence her musical expression. End your review with a short paragraph analyzing what this song tells us about Ariana Grande as a multidimensional artist today.\",\n",
    "}\n",
    "]\n",
    "prompt = tokenizer.apply_chat_template(\n",
    "    messages, add_generation_prompt=True\n",
    ")\n",
    "\n",
    "text = generate(model, tokenizer, prompt=prompt, verbose=True)"
   ]
  },
  {
   "cell_type": "code",
   "execution_count": 7,
   "metadata": {},
   "outputs": [
    {
     "name": "stdout",
     "output_type": "stream",
     "text": [
      "==========\n",
      "**Music Review: \"Sweetener\" by Ariana Grande**\n",
      "\n",
      "Ariana Grande's \"Sweetener\" is a poignant and deeply personal track that encapsulates her emotional journey following the Manchester bombing, the passing of Mac Miller, and her tumultuous relationships. The song is a testament to her resilience, vulnerability, and her ability to transform personal pain into powerful art.\n",
      "\n",
      "**Melody and Production:**\n",
      "The melody of \"Sweetener\" is both haunting and beautiful, with a soft, almost melancholic piano introduction that sets the tone for the entire track. The production is masterful, blending pop sensibilities with subtle R&B and trap elements. The use of soft synths and gentle percussion creates a sense of intimacy, drawing the listener into the emotional landscape of the song.\n",
      "\n",
      "**Lyrics:**\n",
      "The lyrics are a raw and honest exploration of heartbreak, loss, and healing. Grande sings about the pain of losing someone she loves, the struggle to move on, and the hope that love can still exist even in the face of tragedy. The chorus, \"I'm still here, I'm still here, I'm still here,\" is both a declaration of survival and a reminder of the fragility of life. The song's narrative arc moves from the initial pain of\n",
      "==========\n",
      "Prompt: 209 tokens, 201.307 tokens-per-sec\n",
      "Generation: 256 tokens, 18.710 tokens-per-sec\n",
      "Peak memory: 5.708 GB\n"
     ]
    }
   ],
   "source": [
    "audio_path = \"music/Ariana Grande - thank u, next (Official Lyric Video).mp3\"\n",
    "# 30초로 자르기 \n",
    "audio = librosa.load(audio_path, sr=16000)[0]\n",
    "audio = audio[:30*16000]\n",
    "messages = [\n",
    "    {\"role\": \"system\", \"content\": \"You are a speech recognition model.\"},\n",
    "    {\n",
    "  \"role\": \"user\",\n",
    "  \"content\": \"You just listened to the following song. Please write a detailed and thoughtful music review. In your review, reflect on the song’s melody, production, lyrics, emotional tone, and overall impact. Additionally, consider the following background information about the artist and the album:\\n\\nAriana Grande’s music often reflects her personal experiences—ranging from public trauma to emotional healing. The Manchester bombing in 2017, the passing of Mac Miller, and her highly publicized relationships have all influenced the themes in albums like 'Sweetener', 'thank u, next', and 'Positions'. Her recent work blends pop, R&B, and trap elements with lyrical themes of resilience, vulnerability, and self-empowerment.\\n\\nPlease incorporate this background into your review. Consider how the song reflects her emotional evolution and personal narrative. End your review with a short paragraph analyzing what this song reveals about Ariana Grande’s identity as an artist today.\",\n",
    "\n",
    "}\n",
    "]\n",
    "prompt = tokenizer.apply_chat_template(\n",
    "    messages, add_generation_prompt=True\n",
    ")\n",
    "\n",
    "text = generate(model, tokenizer, prompt=prompt, verbose=True)"
   ]
  },
  {
   "cell_type": "code",
   "execution_count": null,
   "metadata": {},
   "outputs": [],
   "source": []
  }
 ],
 "metadata": {
  "kernelspec": {
   "display_name": "qwen",
   "language": "python",
   "name": "python3"
  },
  "language_info": {
   "codemirror_mode": {
    "name": "ipython",
    "version": 3
   },
   "file_extension": ".py",
   "mimetype": "text/x-python",
   "name": "python",
   "nbconvert_exporter": "python",
   "pygments_lexer": "ipython3",
   "version": "3.11.13"
  }
 },
 "nbformat": 4,
 "nbformat_minor": 2
}
